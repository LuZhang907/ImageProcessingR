{
 "cells": [
  {
   "cell_type": "markdown",
   "metadata": {},
   "source": [
    "## Single Spectrum-sp500logreturn-daily"
   ]
  },
  {
   "cell_type": "code",
   "execution_count": 14,
   "metadata": {},
   "outputs": [],
   "source": [
    "import numpy as np\n",
    "np.random.seed(30821)\n",
    "\n",
    "import cv2\n",
    "import os\n",
    "from PIL import Image\n",
    "import keras"
   ]
  },
  {
   "cell_type": "code",
   "execution_count": 15,
   "metadata": {},
   "outputs": [],
   "source": [
    "os.environ['KERAS_BACKEND']='tensorflow'\n",
    "\n",
    "image_directory='/Users/luzhang/Desktop/sp500_spectrum/'\n",
    "SIZE=64\n",
    "dataset=[]\n",
    "label=[]"
   ]
  },
  {
   "cell_type": "code",
   "execution_count": 16,
   "metadata": {},
   "outputs": [],
   "source": [
    "up_images=os.listdir(image_directory+'upspectrum/')\n",
    "for i, image_name in enumerate(up_images):\n",
    "        if(image_name.split('.')[1]=='png'):\n",
    "                image=cv2.imread(image_directory+'upspectrum/'+image_name)\n",
    "                image=Image.fromarray(image, 'RGB')\n",
    "                image=image.resize((SIZE, SIZE))\n",
    "                dataset.append(np.array(image))\n",
    "                label.append(1)\n",
    "                \n",
    "down_images=os.listdir(image_directory+'downspectrum/')\n",
    "for i, image_name in enumerate(down_images):\n",
    "        if(image_name.split('.')[1]=='png'):\n",
    "                image=cv2.imread(image_directory+'downspectrum/'+image_name)\n",
    "                image=Image.fromarray(image, 'RGB')\n",
    "                image=image.resize((SIZE, SIZE))\n",
    "                dataset.append(np.array(image))\n",
    "                label.append(0)"
   ]
  },
  {
   "cell_type": "code",
   "execution_count": 17,
   "metadata": {},
   "outputs": [
    {
     "name": "stdout",
     "output_type": "stream",
     "text": [
      "3068\n"
     ]
    }
   ],
   "source": [
    "print(len(dataset))"
   ]
  },
  {
   "cell_type": "code",
   "execution_count": 18,
   "metadata": {},
   "outputs": [
    {
     "name": "stdout",
     "output_type": "stream",
     "text": [
      "Model: \"model\"\n",
      "_________________________________________________________________\n",
      "Layer (type)                 Output Shape              Param #   \n",
      "=================================================================\n",
      "input_1 (InputLayer)         [(None, 64, 64, 3)]       0         \n",
      "_________________________________________________________________\n",
      "conv2d (Conv2D)              (None, 64, 64, 32)        896       \n",
      "_________________________________________________________________\n",
      "max_pooling2d (MaxPooling2D) (None, 32, 32, 32)        0         \n",
      "_________________________________________________________________\n",
      "batch_normalization (BatchNo (None, 32, 32, 32)        128       \n",
      "_________________________________________________________________\n",
      "dropout (Dropout)            (None, 32, 32, 32)        0         \n",
      "_________________________________________________________________\n",
      "conv2d_1 (Conv2D)            (None, 32, 32, 32)        9248      \n",
      "_________________________________________________________________\n",
      "max_pooling2d_1 (MaxPooling2 (None, 16, 16, 32)        0         \n",
      "_________________________________________________________________\n",
      "batch_normalization_1 (Batch (None, 16, 16, 32)        128       \n",
      "_________________________________________________________________\n",
      "dropout_1 (Dropout)          (None, 16, 16, 32)        0         \n",
      "_________________________________________________________________\n",
      "flatten (Flatten)            (None, 8192)              0         \n",
      "_________________________________________________________________\n",
      "dense (Dense)                (None, 512)               4194816   \n",
      "_________________________________________________________________\n",
      "batch_normalization_2 (Batch (None, 512)               2048      \n",
      "_________________________________________________________________\n",
      "dropout_2 (Dropout)          (None, 512)               0         \n",
      "_________________________________________________________________\n",
      "dense_1 (Dense)              (None, 256)               131328    \n",
      "_________________________________________________________________\n",
      "batch_normalization_3 (Batch (None, 256)               1024      \n",
      "_________________________________________________________________\n",
      "dropout_3 (Dropout)          (None, 256)               0         \n",
      "_________________________________________________________________\n",
      "dense_2 (Dense)              (None, 2)                 514       \n",
      "=================================================================\n",
      "Total params: 4,340,130\n",
      "Trainable params: 4,338,466\n",
      "Non-trainable params: 1,664\n",
      "_________________________________________________________________\n",
      "None\n"
     ]
    }
   ],
   "source": [
    "INPUT_SHAPE=(SIZE,SIZE,3)# change to (SIZE, SIZE, 3)\n",
    "inp=keras.layers.Input(shape=INPUT_SHAPE)\n",
    "\n",
    "conv1=keras.layers.Conv2D(32, kernel_size=(3,3),\n",
    "                          activation='relu',padding='same')(inp)\n",
    "pool1=keras.layers.MaxPooling2D(pool_size=(2,2))(conv1)\n",
    "norm1=keras.layers.BatchNormalization(axis=-1)(pool1)\n",
    "drop1=keras.layers.Dropout(rate=0.2)(norm1)\n",
    "\n",
    "conv2=keras.layers.Conv2D(32, kernel_size=(3,3),\n",
    "                          activation='relu',padding='same')(drop1)\n",
    "pool2=keras.layers.MaxPooling2D(pool_size=(2,2))(conv2)\n",
    "norm2=keras.layers.BatchNormalization(axis=-1)(pool2)\n",
    "drop2=keras.layers.Dropout(rate=0.2)(norm2)\n",
    "\n",
    "flat=keras.layers.Flatten()(drop2) # Flatten the matrix to get it ready for density\n",
    "\n",
    "hidden1=keras.layers.Dense(512, activation='relu')(flat)\n",
    "norm3=keras.layers.BatchNormalization(axis=-1)(hidden1)\n",
    "drop3=keras.layers.Dropout(rate=0.2)(norm3)\n",
    "\n",
    "hidden2=keras.layers.Dense(256, activation='relu')(drop3)\n",
    "norm4=keras.layers.BatchNormalization(axis=-1)(hidden2)\n",
    "drop4=keras.layers.Dropout(rate=0.2)(norm4)\n",
    "\n",
    "out=keras.layers.Dense(2,activation='sigmoid')(drop4) # units=1 gives errors\n",
    "\n",
    "model=keras.Model(inputs=inp, outputs=out)\n",
    "\n",
    "model.compile(optimizer='adam',\n",
    "              loss='categorical_crossentropy',# Check between binary_crossent\n",
    "              metrics=['accuracy'])\n",
    "\n",
    "print(model.summary())\n"
   ]
  },
  {
   "cell_type": "code",
   "execution_count": null,
   "metadata": {
    "scrolled": true
   },
   "outputs": [
    {
     "name": "stdout",
     "output_type": "stream",
     "text": [
      "Epoch 1/50\n",
      "35/35 [==============================] - 4s 99ms/step - loss: 1.1104 - accuracy: 0.5359 - val_loss: 1.1643 - val_accuracy: 0.5650\n",
      "Epoch 2/50\n",
      "35/35 [==============================] - 3s 97ms/step - loss: 0.8791 - accuracy: 0.5599 - val_loss: 0.7333 - val_accuracy: 0.6382\n",
      "Epoch 3/50\n",
      "35/35 [==============================] - 3s 93ms/step - loss: 0.7841 - accuracy: 0.5649 - val_loss: 0.8787 - val_accuracy: 0.5732\n",
      "Epoch 4/50\n",
      "35/35 [==============================] - 3s 94ms/step - loss: 0.7314 - accuracy: 0.5964 - val_loss: 0.6119 - val_accuracy: 0.6545\n",
      "Epoch 5/50\n",
      "35/35 [==============================] - 4s 105ms/step - loss: 0.6581 - accuracy: 0.6495 - val_loss: 0.6007 - val_accuracy: 0.6789\n",
      "Epoch 6/50\n",
      "35/35 [==============================] - 4s 107ms/step - loss: 0.6289 - accuracy: 0.6648 - val_loss: 0.6457 - val_accuracy: 0.6016\n",
      "Epoch 7/50\n",
      "35/35 [==============================] - 3s 96ms/step - loss: 0.6238 - accuracy: 0.6637 - val_loss: 0.6006 - val_accuracy: 0.6463\n",
      "Epoch 8/50\n",
      "35/35 [==============================] - 4s 103ms/step - loss: 0.5781 - accuracy: 0.7006 - val_loss: 0.5851 - val_accuracy: 0.6667\n",
      "Epoch 9/50\n",
      "35/35 [==============================] - 4s 108ms/step - loss: 0.5517 - accuracy: 0.7159 - val_loss: 0.5956 - val_accuracy: 0.6992\n",
      "Epoch 10/50\n",
      "35/35 [==============================] - 4s 104ms/step - loss: 0.5529 - accuracy: 0.7144 - val_loss: 0.6297 - val_accuracy: 0.6504\n",
      "Epoch 11/50\n",
      "35/35 [==============================] - 4s 107ms/step - loss: 0.5220 - accuracy: 0.7350 - val_loss: 0.6203 - val_accuracy: 0.6504\n",
      "Epoch 12/50\n",
      "35/35 [==============================] - 4s 105ms/step - loss: 0.5045 - accuracy: 0.7423 - val_loss: 0.6838 - val_accuracy: 0.6504\n",
      "Epoch 13/50\n",
      "35/35 [==============================] - 3s 100ms/step - loss: 0.4923 - accuracy: 0.7532 - val_loss: 0.6140 - val_accuracy: 0.6667\n",
      "Epoch 14/50\n",
      "35/35 [==============================] - 3s 91ms/step - loss: 0.4518 - accuracy: 0.7874 - val_loss: 0.6508 - val_accuracy: 0.6626\n",
      "Epoch 15/50\n",
      "35/35 [==============================] - 4s 102ms/step - loss: 0.4222 - accuracy: 0.7953 - val_loss: 0.7212 - val_accuracy: 0.6667\n",
      "Epoch 16/50\n",
      "35/35 [==============================] - 3s 90ms/step - loss: 0.4067 - accuracy: 0.8172 - val_loss: 0.6660 - val_accuracy: 0.6382\n",
      "Epoch 17/50\n",
      "35/35 [==============================] - 3s 100ms/step - loss: 0.3952 - accuracy: 0.8182 - val_loss: 0.7424 - val_accuracy: 0.6545\n",
      "Epoch 18/50\n",
      "35/35 [==============================] - 3s 99ms/step - loss: 0.3848 - accuracy: 0.8295 - val_loss: 0.9198 - val_accuracy: 0.6260\n",
      "Epoch 19/50\n",
      "35/35 [==============================] - 4s 100ms/step - loss: 0.3659 - accuracy: 0.8470 - val_loss: 1.1526 - val_accuracy: 0.6098\n",
      "Epoch 20/50\n",
      "35/35 [==============================] - 4s 104ms/step - loss: 0.3308 - accuracy: 0.8595 - val_loss: 0.8307 - val_accuracy: 0.6220\n",
      "Epoch 21/50\n",
      "35/35 [==============================] - 3s 95ms/step - loss: 0.2922 - accuracy: 0.8748 - val_loss: 0.8443 - val_accuracy: 0.6179\n",
      "Epoch 22/50\n",
      "35/35 [==============================] - 4s 102ms/step - loss: 0.2938 - accuracy: 0.8741 - val_loss: 0.8600 - val_accuracy: 0.6138\n",
      "Epoch 23/50\n",
      "35/35 [==============================] - 3s 94ms/step - loss: 0.2935 - accuracy: 0.8759 - val_loss: 1.3817 - val_accuracy: 0.5854\n",
      "Epoch 24/50\n",
      "35/35 [==============================] - 3s 91ms/step - loss: 0.2800 - accuracy: 0.8804 - val_loss: 0.8917 - val_accuracy: 0.6301\n",
      "Epoch 25/50\n",
      "35/35 [==============================] - 3s 96ms/step - loss: 0.2446 - accuracy: 0.9020 - val_loss: 0.8029 - val_accuracy: 0.6016\n",
      "Epoch 26/50\n",
      "35/35 [==============================] - 3s 97ms/step - loss: 0.2342 - accuracy: 0.8993 - val_loss: 1.1969 - val_accuracy: 0.6057\n",
      "Epoch 27/50\n",
      "35/35 [==============================] - 3s 100ms/step - loss: 0.2253 - accuracy: 0.9092 - val_loss: 1.0865 - val_accuracy: 0.6260\n",
      "Epoch 28/50\n",
      "35/35 [==============================] - 3s 93ms/step - loss: 0.2137 - accuracy: 0.9105 - val_loss: 0.9095 - val_accuracy: 0.6545\n",
      "Epoch 29/50\n",
      "35/35 [==============================] - 4s 104ms/step - loss: 0.1896 - accuracy: 0.9167 - val_loss: 10.5596 - val_accuracy: 0.5732\n",
      "Epoch 30/50\n",
      "35/35 [==============================] - 4s 112ms/step - loss: 0.1809 - accuracy: 0.9247 - val_loss: 1.2047 - val_accuracy: 0.6504\n",
      "Epoch 31/50\n",
      "35/35 [==============================] - 3s 97ms/step - loss: 0.1696 - accuracy: 0.9247 - val_loss: 1.2484 - val_accuracy: 0.6341\n",
      "Epoch 32/50\n",
      "35/35 [==============================] - 3s 99ms/step - loss: 0.1899 - accuracy: 0.9243 - val_loss: 1.1191 - val_accuracy: 0.6179\n",
      "Epoch 33/50\n",
      "35/35 [==============================] - 3s 99ms/step - loss: 0.1746 - accuracy: 0.9245 - val_loss: 1.0699 - val_accuracy: 0.6057\n",
      "Epoch 34/50\n",
      "35/35 [==============================] - 4s 108ms/step - loss: 0.1498 - accuracy: 0.9500 - val_loss: 1.3337 - val_accuracy: 0.6057\n",
      "Epoch 35/50\n",
      "35/35 [==============================] - 4s 111ms/step - loss: 0.1352 - accuracy: 0.9480 - val_loss: 3.8420 - val_accuracy: 0.5407\n",
      "Epoch 36/50\n",
      "13/35 [==========>...................] - ETA: 2s - loss: 0.1360 - accuracy: 0.9436"
     ]
    }
   ],
   "source": [
    "from sklearn.model_selection import train_test_split\n",
    "from keras.utils import to_categorical\n",
    "\n",
    "X_train, X_test, y_train, y_test=train_test_split(dataset, to_categorical(np.array(label)), test_size=0.2, random_state=0)\n",
    "\n",
    "history=model.fit(np.array(X_train), y_train, batch_size=64, verbose=1, epochs=50,validation_split=0.1, shuffle=False)\n"
   ]
  },
  {
   "cell_type": "code",
   "execution_count": 7,
   "metadata": {},
   "outputs": [
    {
     "name": "stdout",
     "output_type": "stream",
     "text": [
      "20/20 [==============================] - 0s 12ms/step - loss: 1.6923 - accuracy: 0.5733\n",
      "Test_Accuracy: 57.3289930820465087890625%\n"
     ]
    }
   ],
   "source": [
    "print(\"Test_Accuracy: {:.22f}%\".format(model.evaluate(np.array(X_test), np.array(y_test))[1]*100))"
   ]
  },
  {
   "cell_type": "code",
   "execution_count": 8,
   "metadata": {},
   "outputs": [
    {
     "data": {
      "image/png": "[encoded data removed]",
      "text/plain": [
       "<Figure size 864x288 with 2 Axes>"
      ]
     },
     "metadata": {
      "needs_background": "light"
     },
     "output_type": "display_data"
    }
   ],
   "source": [
    "import matplotlib.pyplot as plt\n",
    "f, (ax1, ax2) =plt.subplots(1,2,figsize=(12,4))\n",
    "t=f.suptitle('CNN Performance', fontsize=12)\n",
    "f.subplots_adjust(top=0.85, wspace=0.3)\n",
    "\n",
    "max_epoch=len(history.history['accuracy'])+1\n",
    "epoch_list=list(range(1, max_epoch))\n",
    "ax1.plot(epoch_list, history.history['accuracy'], label='Train Accuracy')\n",
    "ax1.plot(epoch_list, history.history['val_accuracy'], label=\"Validation Accuracy\")\n",
    "ax1.set_xticks(np.arange(1, max_epoch, 5))\n",
    "ax1.set_ylabel('Accuracy Value')\n",
    "ax1.set_xlabel('Epoch')\n",
    "ax1.set_title('Accuracy')\n",
    "l1=ax1.legend(loc='best')\n",
    "\n",
    "ax2.plot(epoch_list, history.history['loss'], label='Train Loss')\n",
    "ax2.plot(epoch_list, history.history['val_loss'], label=\"Validation loss\")\n",
    "ax2.set_xticks(np.arange(1, max_epoch, 5))\n",
    "ax2.set_ylabel('loss Value')\n",
    "ax2.set_xlabel('Epoch')\n",
    "ax2.set_title('loss')\n",
    "l2=ax2.legend(loc='best')\n",
    "\n",
    "model.save(\"CMO_attempt_CNN.h5\")\n"
   ]
  },
  {
   "cell_type": "markdown",
   "metadata": {},
   "source": [
    "# Dual-input sp500, CMO"
   ]
  },
  {
   "cell_type": "code",
   "execution_count": 3,
   "metadata": {},
   "outputs": [],
   "source": []
  },
  {
   "cell_type": "code",
   "execution_count": 13,
   "metadata": {},
   "outputs": [],
   "source": []
  },
  {
   "cell_type": "code",
   "execution_count": 15,
   "metadata": {},
   "outputs": [],
   "source": []
  },
  {
   "cell_type": "code",
   "execution_count": null,
   "metadata": {},
   "outputs": [],
   "source": []
  },
  {
   "cell_type": "code",
   "execution_count": null,
   "metadata": {},
   "outputs": [],
   "source": []
  }
 ],
 "metadata": {
  "kernelspec": {
   "display_name": "Python 3",
   "language": "python",
   "name": "python3"
  },
  "language_info": {
   "codemirror_mode": {
    "name": "ipython",
    "version": 3
   },
   "file_extension": ".py",
   "mimetype": "text/x-python",
   "name": "python",
   "nbconvert_exporter": "python",
   "pygments_lexer": "ipython3",
   "version": "3.8.3"
  }
 },
 "nbformat": 4,
 "nbformat_minor": 4
}
