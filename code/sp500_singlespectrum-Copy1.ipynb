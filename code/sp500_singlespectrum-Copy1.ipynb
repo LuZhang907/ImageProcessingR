{
 "cells": [
  {
   "cell_type": "markdown",
   "metadata": {},
   "source": [
    "## Single Spectrum-sp500logreturn-daily"
   ]
  },
  {
   "cell_type": "code",
   "execution_count": 1,
   "metadata": {},
   "outputs": [],
   "source": [
    "import numpy as np\n",
    "np.random.seed(30821)\n",
    "\n",
    "import cv2\n",
    "import os\n",
    "from PIL import Image\n",
    "import keras"
   ]
  },
  {
   "cell_type": "code",
   "execution_count": 2,
   "metadata": {},
   "outputs": [],
   "source": [
    "os.environ['KERAS_BACKEND']='tensorflow'\n",
    "\n",
    "image_directory='/Users/luzhang/Desktop/sp500_spectrum/'\n",
    "SIZE=64\n",
    "dataset=[]\n",
    "label=[]"
   ]
  },
  {
   "cell_type": "code",
   "execution_count": 3,
   "metadata": {},
   "outputs": [],
   "source": [
    "up_images=os.listdir(image_directory+'upspectrum/')\n",
    "for i, image_name in enumerate(up_images):\n",
    "        if(image_name.split('.')[1]=='png'):\n",
    "                image=cv2.imread(image_directory+'upspectrum/'+image_name)\n",
    "                image=Image.fromarray(image, 'RGB')\n",
    "                image=image.resize((SIZE, SIZE))\n",
    "                dataset.append(np.array(image))\n",
    "                label.append(1)\n",
    "                \n",
    "down_images=os.listdir(image_directory+'downspectrum/')\n",
    "for i, image_name in enumerate(down_images):\n",
    "        if(image_name.split('.')[1]=='png'):\n",
    "                image=cv2.imread(image_directory+'downspectrum/'+image_name)\n",
    "                image=Image.fromarray(image, 'RGB')\n",
    "                image=image.resize((SIZE, SIZE))\n",
    "                dataset.append(np.array(image))\n",
    "                label.append(0)"
   ]
  },
  {
   "cell_type": "code",
   "execution_count": 4,
   "metadata": {},
   "outputs": [
    {
     "name": "stdout",
     "output_type": "stream",
     "text": [
      "Model: \"model\"\n",
      "_________________________________________________________________\n",
      "Layer (type)                 Output Shape              Param #   \n",
      "=================================================================\n",
      "input_1 (InputLayer)         [(None, 64, 64, 3)]       0         \n",
      "_________________________________________________________________\n",
      "conv2d (Conv2D)              (None, 64, 64, 32)        896       \n",
      "_________________________________________________________________\n",
      "max_pooling2d (MaxPooling2D) (None, 32, 32, 32)        0         \n",
      "_________________________________________________________________\n",
      "batch_normalization (BatchNo (None, 32, 32, 32)        128       \n",
      "_________________________________________________________________\n",
      "dropout (Dropout)            (None, 32, 32, 32)        0         \n",
      "_________________________________________________________________\n",
      "conv2d_1 (Conv2D)            (None, 32, 32, 32)        9248      \n",
      "_________________________________________________________________\n",
      "max_pooling2d_1 (MaxPooling2 (None, 16, 16, 32)        0         \n",
      "_________________________________________________________________\n",
      "batch_normalization_1 (Batch (None, 16, 16, 32)        128       \n",
      "_________________________________________________________________\n",
      "dropout_1 (Dropout)          (None, 16, 16, 32)        0         \n",
      "_________________________________________________________________\n",
      "flatten (Flatten)            (None, 8192)              0         \n",
      "_________________________________________________________________\n",
      "dense (Dense)                (None, 512)               4194816   \n",
      "_________________________________________________________________\n",
      "batch_normalization_2 (Batch (None, 512)               2048      \n",
      "_________________________________________________________________\n",
      "dropout_2 (Dropout)          (None, 512)               0         \n",
      "_________________________________________________________________\n",
      "dense_1 (Dense)              (None, 256)               131328    \n",
      "_________________________________________________________________\n",
      "batch_normalization_3 (Batch (None, 256)               1024      \n",
      "_________________________________________________________________\n",
      "dropout_3 (Dropout)          (None, 256)               0         \n",
      "_________________________________________________________________\n",
      "dense_2 (Dense)              (None, 2)                 514       \n",
      "=================================================================\n",
      "Total params: 4,340,130\n",
      "Trainable params: 4,338,466\n",
      "Non-trainable params: 1,664\n",
      "_________________________________________________________________\n",
      "None\n"
     ]
    }
   ],
   "source": [
    "INPUT_SHAPE=(SIZE,SIZE,3)# change to (SIZE, SIZE, 3)\n",
    "inp=keras.layers.Input(shape=INPUT_SHAPE)\n",
    "\n",
    "conv1=keras.layers.Conv2D(32, kernel_size=(3,3),\n",
    "                          activation='relu',padding='same')(inp)\n",
    "pool1=keras.layers.MaxPooling2D(pool_size=(2,2))(conv1)\n",
    "norm1=keras.layers.BatchNormalization(axis=-1)(pool1)\n",
    "drop1=keras.layers.Dropout(rate=0.2)(norm1)\n",
    "\n",
    "conv2=keras.layers.Conv2D(32, kernel_size=(3,3),\n",
    "                          activation='relu',padding='same')(drop1)\n",
    "pool2=keras.layers.MaxPooling2D(pool_size=(2,2))(conv2)\n",
    "norm2=keras.layers.BatchNormalization(axis=-1)(pool2)\n",
    "drop2=keras.layers.Dropout(rate=0.2)(norm2)\n",
    "\n",
    "flat=keras.layers.Flatten()(drop2) # Flatten the matrix to get it ready for density\n",
    "\n",
    "hidden1=keras.layers.Dense(512, activation='relu')(flat)\n",
    "norm3=keras.layers.BatchNormalization(axis=-1)(hidden1)\n",
    "drop3=keras.layers.Dropout(rate=0.2)(norm3)\n",
    "\n",
    "hidden2=keras.layers.Dense(256, activation='relu')(drop3)\n",
    "norm4=keras.layers.BatchNormalization(axis=-1)(hidden2)\n",
    "drop4=keras.layers.Dropout(rate=0.2)(norm4)\n",
    "\n",
    "out=keras.layers.Dense(2,activation='sigmoid')(drop4) # units=1 gives errors\n",
    "\n",
    "model=keras.Model(inputs=inp, outputs=out)\n",
    "\n",
    "model.compile(optimizer='adam',\n",
    "              loss='categorical_crossentropy',# Check between binary_crossent\n",
    "              metrics=['accuracy'])\n",
    "\n",
    "print(model.summary())\n"
   ]
  },
  {
   "cell_type": "code",
   "execution_count": 5,
   "metadata": {
    "scrolled": true
   },
   "outputs": [
    {
     "name": "stdout",
     "output_type": "stream",
     "text": [
      "Epoch 1/50\n",
      "61/61 [==============================] - 5s 64ms/step - loss: 1.0186 - accuracy: 0.5465 - val_loss: 0.8784 - val_accuracy: 0.5442\n",
      "Epoch 2/50\n",
      "61/61 [==============================] - 4s 58ms/step - loss: 0.7997 - accuracy: 0.5761 - val_loss: 0.9415 - val_accuracy: 0.6047\n",
      "Epoch 3/50\n",
      "61/61 [==============================] - 4s 59ms/step - loss: 0.7083 - accuracy: 0.6213 - val_loss: 0.8843 - val_accuracy: 0.5953\n",
      "Epoch 4/50\n",
      "61/61 [==============================] - 4s 62ms/step - loss: 0.6845 - accuracy: 0.6219 - val_loss: 0.7148 - val_accuracy: 0.5860\n",
      "Epoch 5/50\n",
      "61/61 [==============================] - 4s 59ms/step - loss: 0.5888 - accuracy: 0.6885 - val_loss: 0.6694 - val_accuracy: 0.6512\n",
      "Epoch 6/50\n",
      "61/61 [==============================] - 4s 59ms/step - loss: 0.5812 - accuracy: 0.7046 - val_loss: 0.7871 - val_accuracy: 0.5767\n",
      "Epoch 7/50\n",
      "61/61 [==============================] - 4s 59ms/step - loss: 0.5893 - accuracy: 0.6902 - val_loss: 0.6887 - val_accuracy: 0.6326\n",
      "Epoch 8/50\n",
      "61/61 [==============================] - 4s 62ms/step - loss: 0.5435 - accuracy: 0.7333 - val_loss: 1.7830 - val_accuracy: 0.4512\n",
      "Epoch 9/50\n",
      "61/61 [==============================] - 4s 62ms/step - loss: 0.5407 - accuracy: 0.7222 - val_loss: 0.8689 - val_accuracy: 0.6651\n",
      "Epoch 10/50\n",
      "61/61 [==============================] - 4s 60ms/step - loss: 0.5114 - accuracy: 0.7502 - val_loss: 0.7667 - val_accuracy: 0.6186\n",
      "Epoch 11/50\n",
      "61/61 [==============================] - 4s 67ms/step - loss: 0.4640 - accuracy: 0.7819 - val_loss: 0.8013 - val_accuracy: 0.5581\n",
      "Epoch 12/50\n",
      "61/61 [==============================] - 4s 66ms/step - loss: 0.4471 - accuracy: 0.7780 - val_loss: 0.7732 - val_accuracy: 0.6140\n",
      "Epoch 13/50\n",
      "61/61 [==============================] - 4s 67ms/step - loss: 0.4270 - accuracy: 0.7898 - val_loss: 0.8866 - val_accuracy: 0.5953\n",
      "Epoch 14/50\n",
      "61/61 [==============================] - 4s 67ms/step - loss: 0.4220 - accuracy: 0.7988 - val_loss: 1.2471 - val_accuracy: 0.5302\n",
      "Epoch 15/50\n",
      "61/61 [==============================] - 4s 68ms/step - loss: 0.4151 - accuracy: 0.8064 - val_loss: 1.1718 - val_accuracy: 0.5721\n",
      "Epoch 16/50\n",
      "61/61 [==============================] - 4s 61ms/step - loss: 0.3979 - accuracy: 0.8178 - val_loss: 0.7993 - val_accuracy: 0.6465\n",
      "Epoch 17/50\n",
      "61/61 [==============================] - 4s 59ms/step - loss: 0.3544 - accuracy: 0.8355 - val_loss: 0.8400 - val_accuracy: 0.6512\n",
      "Epoch 18/50\n",
      "61/61 [==============================] - 4s 62ms/step - loss: 0.3621 - accuracy: 0.8289 - val_loss: 1.4438 - val_accuracy: 0.5256\n",
      "Epoch 19/50\n",
      "61/61 [==============================] - 4s 63ms/step - loss: 0.3198 - accuracy: 0.8566 - val_loss: 0.8883 - val_accuracy: 0.6279\n",
      "Epoch 20/50\n",
      "61/61 [==============================] - 4s 68ms/step - loss: 0.2859 - accuracy: 0.8702 - val_loss: 0.8325 - val_accuracy: 0.6140\n",
      "Epoch 21/50\n",
      "61/61 [==============================] - 4s 63ms/step - loss: 0.2961 - accuracy: 0.8648 - val_loss: 1.0179 - val_accuracy: 0.6140\n",
      "Epoch 22/50\n",
      "61/61 [==============================] - 4s 63ms/step - loss: 0.2671 - accuracy: 0.8840 - val_loss: 0.9726 - val_accuracy: 0.5953\n",
      "Epoch 23/50\n",
      "61/61 [==============================] - 4s 68ms/step - loss: 0.2793 - accuracy: 0.8797 - val_loss: 1.5858 - val_accuracy: 0.5442\n",
      "Epoch 24/50\n",
      "61/61 [==============================] - 4s 63ms/step - loss: 0.2967 - accuracy: 0.8735 - val_loss: 0.9528 - val_accuracy: 0.6837\n",
      "Epoch 25/50\n",
      "61/61 [==============================] - 4s 64ms/step - loss: 0.2966 - accuracy: 0.8736 - val_loss: 0.9422 - val_accuracy: 0.6186\n",
      "Epoch 26/50\n",
      "61/61 [==============================] - 4s 69ms/step - loss: 0.2297 - accuracy: 0.9054 - val_loss: 8.6425 - val_accuracy: 0.5395\n",
      "Epoch 27/50\n",
      "61/61 [==============================] - 4s 60ms/step - loss: 0.2956 - accuracy: 0.8706 - val_loss: 2.2346 - val_accuracy: 0.5953\n",
      "Epoch 28/50\n",
      "61/61 [==============================] - 3s 57ms/step - loss: 0.2783 - accuracy: 0.8733 - val_loss: 0.9629 - val_accuracy: 0.6279\n",
      "Epoch 29/50\n",
      "61/61 [==============================] - 3s 57ms/step - loss: 0.2447 - accuracy: 0.8987 - val_loss: 1.0018 - val_accuracy: 0.5907\n",
      "Epoch 30/50\n",
      "61/61 [==============================] - 4s 58ms/step - loss: 0.2655 - accuracy: 0.8815 - val_loss: 1.5482 - val_accuracy: 0.4930\n",
      "Epoch 31/50\n",
      "61/61 [==============================] - 4s 58ms/step - loss: 0.2197 - accuracy: 0.9058 - val_loss: 1.0177 - val_accuracy: 0.6093\n",
      "Epoch 32/50\n",
      "61/61 [==============================] - 4s 57ms/step - loss: 0.2469 - accuracy: 0.8968 - val_loss: 0.8134 - val_accuracy: 0.6512\n",
      "Epoch 33/50\n",
      "61/61 [==============================] - 4s 59ms/step - loss: 0.1734 - accuracy: 0.9359 - val_loss: 0.9263 - val_accuracy: 0.6419\n",
      "Epoch 34/50\n",
      "61/61 [==============================] - 4s 62ms/step - loss: 0.1627 - accuracy: 0.9324 - val_loss: 1.0050 - val_accuracy: 0.5953\n",
      "Epoch 35/50\n",
      "61/61 [==============================] - 4s 65ms/step - loss: 0.1657 - accuracy: 0.9291 - val_loss: 1.1633 - val_accuracy: 0.5814\n",
      "Epoch 36/50\n",
      "61/61 [==============================] - 4s 61ms/step - loss: 0.1721 - accuracy: 0.9257 - val_loss: 1.0590 - val_accuracy: 0.6093\n",
      "Epoch 37/50\n",
      "61/61 [==============================] - 4s 60ms/step - loss: 0.1545 - accuracy: 0.9299 - val_loss: 1.2623 - val_accuracy: 0.5488\n",
      "Epoch 38/50\n",
      "61/61 [==============================] - 4s 59ms/step - loss: 0.1462 - accuracy: 0.9441 - val_loss: 1.0810 - val_accuracy: 0.6558\n",
      "Epoch 39/50\n",
      "61/61 [==============================] - 4s 64ms/step - loss: 0.1290 - accuracy: 0.9589 - val_loss: 1.2009 - val_accuracy: 0.6419\n",
      "Epoch 40/50\n",
      "61/61 [==============================] - 4s 61ms/step - loss: 0.1241 - accuracy: 0.9611 - val_loss: 1.2179 - val_accuracy: 0.6140\n",
      "Epoch 41/50\n",
      "61/61 [==============================] - 4s 58ms/step - loss: 0.1481 - accuracy: 0.9412 - val_loss: 1.3060 - val_accuracy: 0.5721\n",
      "Epoch 42/50\n",
      "61/61 [==============================] - 4s 59ms/step - loss: 0.1101 - accuracy: 0.9627 - val_loss: 1.1976 - val_accuracy: 0.6233\n",
      "Epoch 43/50\n",
      "61/61 [==============================] - 4s 59ms/step - loss: 0.1061 - accuracy: 0.9633 - val_loss: 1.3606 - val_accuracy: 0.5907\n",
      "Epoch 44/50\n",
      "61/61 [==============================] - 4s 59ms/step - loss: 0.1286 - accuracy: 0.9480 - val_loss: 1.6923 - val_accuracy: 0.6047\n",
      "Epoch 45/50\n",
      "61/61 [==============================] - 4s 59ms/step - loss: 0.1107 - accuracy: 0.9597 - val_loss: 1.2706 - val_accuracy: 0.6512\n",
      "Epoch 46/50\n",
      "61/61 [==============================] - 4s 59ms/step - loss: 0.1091 - accuracy: 0.9587 - val_loss: 1.3393 - val_accuracy: 0.6000\n",
      "Epoch 47/50\n",
      "61/61 [==============================] - 4s 59ms/step - loss: 0.1140 - accuracy: 0.9572 - val_loss: 1.3497 - val_accuracy: 0.5721\n",
      "Epoch 48/50\n",
      "61/61 [==============================] - 4s 59ms/step - loss: 0.1074 - accuracy: 0.9523 - val_loss: 1.3821 - val_accuracy: 0.6372\n",
      "Epoch 49/50\n",
      "61/61 [==============================] - 4s 60ms/step - loss: 0.1125 - accuracy: 0.9530 - val_loss: 1.2133 - val_accuracy: 0.6093\n",
      "Epoch 50/50\n",
      "61/61 [==============================] - 4s 60ms/step - loss: 0.1281 - accuracy: 0.9507 - val_loss: 1.2412 - val_accuracy: 0.6698\n"
     ]
    }
   ],
   "source": [
    "from sklearn.model_selection import train_test_split\n",
    "from keras.utils import to_categorical\n",
    "\n",
    "X_train, X_test, y_train, y_test=train_test_split(dataset, to_categorical(np.array(label)), test_size=0.3, random_state=0)\n",
    "\n",
    "history=model.fit(np.array(X_train), y_train, batch_size=32, verbose=1, epochs=50,validation_split=0.1, shuffle=False)\n"
   ]
  },
  {
   "cell_type": "code",
   "execution_count": 6,
   "metadata": {},
   "outputs": [
    {
     "name": "stdout",
     "output_type": "stream",
     "text": [
      "29/29 [==============================] - 0s 14ms/step - loss: 1.5798 - accuracy: 0.5939\n",
      "Test_Accuracy: 59.3919634819030761718750%\n"
     ]
    }
   ],
   "source": [
    "print(\"Test_Accuracy: {:.22f}%\".format(model.evaluate(np.array(X_test), np.array(y_test))[1]*100))"
   ]
  },
  {
   "cell_type": "code",
   "execution_count": 7,
   "metadata": {},
   "outputs": [
    {
     "data": {
      "image/png": "[encoded data removed]",
      "text/plain": [
       "<Figure size 864x288 with 2 Axes>"
      ]
     },
     "metadata": {
      "needs_background": "light"
     },
     "output_type": "display_data"
    }
   ],
   "source": [
    "import matplotlib.pyplot as plt\n",
    "f, (ax1, ax2) =plt.subplots(1,2,figsize=(12,4))\n",
    "t=f.suptitle('CNN Performance', fontsize=12)\n",
    "f.subplots_adjust(top=0.85, wspace=0.3)\n",
    "\n",
    "max_epoch=len(history.history['accuracy'])+1\n",
    "epoch_list=list(range(1, max_epoch))\n",
    "ax1.plot(epoch_list, history.history['accuracy'], label='Train Accuracy')\n",
    "ax1.plot(epoch_list, history.history['val_accuracy'], label=\"Validation Accuracy\")\n",
    "ax1.set_xticks(np.arange(1, max_epoch, 5))\n",
    "ax1.set_ylabel('Accuracy Value')\n",
    "ax1.set_xlabel('Epoch')\n",
    "ax1.set_title('Accuracy')\n",
    "l1=ax1.legend(loc='best')\n",
    "\n",
    "ax2.plot(epoch_list, history.history['loss'], label='Train Loss')\n",
    "ax2.plot(epoch_list, history.history['val_loss'], label=\"Validation loss\")\n",
    "ax2.set_xticks(np.arange(1, max_epoch, 5))\n",
    "ax2.set_ylabel('loss Value')\n",
    "ax2.set_xlabel('Epoch')\n",
    "ax2.set_title('loss')\n",
    "l2=ax2.legend(loc='best')\n",
    "\n",
    "model.save(\"CMO_attempt_CNN.h5\")\n"
   ]
  },
  {
   "cell_type": "markdown",
   "metadata": {},
   "source": [
    "## Dual-input DVI, DPO"
   ]
  },
  {
   "cell_type": "code",
   "execution_count": 8,
   "metadata": {},
   "outputs": [],
   "source": [
    "import pandas as pd\n",
    "import numpy as np\n",
    "from skimage.io import imread\n",
    "from sklearn.model_selection import train_test_split\n",
    "from matplotlib import pyplot as plt\n",
    "%matplotlib inline\n",
    "\n",
    "import keras\n",
    "from keras import optimizers\n",
    "from keras.utils import to_categorical\n",
    "from keras.layers import Input, Dense, Flatten, Dropout, Conv2D, MaxPooling2D, Activation, concatenate\n",
    "from keras.layers.advanced_activations import LeakyReLU\n",
    "from keras.models import Model\n",
    "from keras.callbacks import ModelCheckpoint"
   ]
  },
  {
   "cell_type": "code",
   "execution_count": null,
   "metadata": {},
   "outputs": [],
   "source": []
  },
  {
   "cell_type": "code",
   "execution_count": null,
   "metadata": {},
   "outputs": [],
   "source": [
    "def create_convolution_layers(input_img):\n",
    "  model = Conv2D(32, (3, 3), padding='same', input_shape=input_shape)(input_img)\n",
    "  model = LeakyReLU(alpha=0.1)(model)\n",
    "  model = MaxPooling2D((2, 2),padding='same')(model)\n",
    "  model = Dropout(0.25)(model)\n",
    "  \n",
    "  model = Conv2D(64, (3, 3), padding='same')(model)\n",
    "  model = LeakyReLU(alpha=0.1)(model)\n",
    "  model = MaxPooling2D(pool_size=(2, 2),padding='same')(model)\n",
    "  model = Dropout(0.25)(model)\n",
    "    \n",
    "  model = Conv2D(128, (3, 3), padding='same')(model)\n",
    "  model = LeakyReLU(alpha=0.1)(model)\n",
    "  model = MaxPooling2D(pool_size=(2, 2),padding='same')(model)\n",
    "  model = Dropout(0.4)(model)\n",
    "    \n",
    "  return model"
   ]
  },
  {
   "cell_type": "code",
   "execution_count": null,
   "metadata": {},
   "outputs": [],
   "source": [
    "\n",
    "current_input = Input(shape=input_shape)\n",
    "current_model = create_convolution_layers(current_input)\n",
    "\n",
    "voltage_input = Input(shape=input_shape)\n",
    "voltage_model = create_convolution_layers(voltage_input)\n",
    "\n",
    "conv = concatenate([current_model, voltage_model])\n",
    "\n",
    "conv = Flatten()(conv)\n",
    "\n",
    "dense = Dense(512)(conv)\n",
    "dense = LeakyReLU(alpha=0.1)(dense)\n",
    "dense = Dropout(0.5)(dense)\n",
    "\n",
    "output = Dense(num_classes, activation='softmax')(dense)\n",
    "\n",
    "model = Model(inputs=[current_input, voltage_input], outputs=[output])\n",
    "\n",
    "opt = optimizers.Adam()\n",
    "\n",
    "model.compile(loss='categorical_crossentropy',\n",
    "              optimizer=opt,\n",
    "              metrics=['accuracy'])"
   ]
  }
 ],
 "metadata": {
  "kernelspec": {
   "display_name": "Python 3",
   "language": "python",
   "name": "python3"
  },
  "language_info": {
   "codemirror_mode": {
    "name": "ipython",
    "version": 3
   },
   "file_extension": ".py",
   "mimetype": "text/x-python",
   "name": "python",
   "nbconvert_exporter": "python",
   "pygments_lexer": "ipython3",
   "version": "3.8.3"
  }
 },
 "nbformat": 4,
 "nbformat_minor": 4
}
