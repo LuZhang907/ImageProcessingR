{
 "cells": [
  {
   "cell_type": "code",
   "execution_count": 1,
   "metadata": {},
   "outputs": [],
   "source": [
    "\n",
    "# Description: This program classifies images\n",
    "\n",
    "# Import the libraries\n",
    "\n",
    "import tensorflow as tf\n",
    "from tensorflow import keras\n",
    "from keras.models import Sequential\n",
    "from keras.layers import Dense, Flatten, Conv2D, MaxPooling2D, Dropout\n",
    "from tensorflow.keras import layers\n",
    "from keras.utils import to_categorical\n",
    "import numpy as np\n",
    "import matplotlib.pyplot as plt\n",
    "plt.style.use('fivethirtyeight')\n"
   ]
  },
  {
   "cell_type": "code",
   "execution_count": 2,
   "metadata": {},
   "outputs": [
    {
     "name": "stdout",
     "output_type": "stream",
     "text": [
      "<class 'numpy.ndarray'>\n",
      "<class 'numpy.ndarray'>\n",
      "<class 'numpy.ndarray'>\n",
      "<class 'numpy.ndarray'>\n"
     ]
    }
   ],
   "source": [
    "# Load the data\n",
    "from keras.datasets import cifar10\n",
    "(x_train, y_train), (x_test, y_test)=cifar10.load_data()\n",
    "\n",
    "#Look at the data types of the variables\n",
    "print(type(x_train))\n",
    "print(type(y_train))\n",
    "print(type(x_test))\n",
    "print(type(y_test))"
   ]
  },
  {
   "cell_type": "code",
   "execution_count": 3,
   "metadata": {},
   "outputs": [
    {
     "name": "stdout",
     "output_type": "stream",
     "text": [
      "x_train shape:  (50000, 32, 32, 3)\n",
      "y_train shape:  (50000, 1)\n",
      "x_test shape:  (10000, 32, 32, 3)\n",
      "y_test shape:  (10000, 32, 32, 3)\n"
     ]
    }
   ],
   "source": [
    "#get the shape of the arrays\n",
    "print('x_train shape: ', x_train.shape)\n",
    "print('y_train shape: ', y_train.shape)\n",
    "print('x_test shape: ', x_test.shape)\n",
    "print('y_test shape: ', x_test.shape)"
   ]
  },
  {
   "cell_type": "code",
   "execution_count": 11,
   "metadata": {
    "scrolled": true
   },
   "outputs": [
    {
     "data": {
      "text/plain": [
       "array([[[53, 65, 53],\n",
       "        [54, 63, 52],\n",
       "        [56, 60, 50],\n",
       "        ...,\n",
       "        [47, 51, 50],\n",
       "        [41, 45, 44],\n",
       "        [24, 28, 27]],\n",
       "\n",
       "       [[46, 59, 41],\n",
       "        [53, 62, 45],\n",
       "        [54, 59, 44],\n",
       "        ...,\n",
       "        [42, 46, 45],\n",
       "        [39, 43, 42],\n",
       "        [28, 32, 31]],\n",
       "\n",
       "       [[45, 59, 38],\n",
       "        [50, 60, 41],\n",
       "        [46, 52, 34],\n",
       "        ...,\n",
       "        [38, 42, 41],\n",
       "        [36, 40, 39],\n",
       "        [29, 33, 32]],\n",
       "\n",
       "       ...,\n",
       "\n",
       "       [[71, 83, 66],\n",
       "        [74, 83, 66],\n",
       "        [80, 85, 67],\n",
       "        ...,\n",
       "        [51, 54, 33],\n",
       "        [46, 49, 34],\n",
       "        [49, 50, 41]],\n",
       "\n",
       "       [[75, 82, 67],\n",
       "        [79, 85, 69],\n",
       "        [81, 85, 67],\n",
       "        ...,\n",
       "        [61, 65, 41],\n",
       "        [64, 67, 48],\n",
       "        [48, 50, 41]],\n",
       "\n",
       "       [[85, 83, 71],\n",
       "        [85, 84, 71],\n",
       "        [86, 86, 70],\n",
       "        ...,\n",
       "        [61, 65, 39],\n",
       "        [64, 67, 46],\n",
       "        [49, 50, 41]]], dtype=uint8)"
      ]
     },
     "execution_count": 11,
     "metadata": {},
     "output_type": "execute_result"
    }
   ],
   "source": [
    "#take a look at the first image as an array\n",
    "index=10\n",
    "x_train[index]"
   ]
  },
  {
   "cell_type": "code",
   "execution_count": 12,
   "metadata": {},
   "outputs": [
    {
     "data": {
      "image/png": "[encoded data removed]",
      "text/plain": [
       "<Figure size 432x288 with 1 Axes>"
      ]
     },
     "metadata": {},
     "output_type": "display_data"
    }
   ],
   "source": [
    "# Show the image as a picture\n",
    "img=plt.imshow(x_train[index])"
   ]
  },
  {
   "cell_type": "code",
   "execution_count": 13,
   "metadata": {},
   "outputs": [
    {
     "name": "stdout",
     "output_type": "stream",
     "text": [
      "The image label is: [4]\n"
     ]
    }
   ],
   "source": [
    "# Get the image label\n",
    "print('The image label is:', y_train[index])"
   ]
  },
  {
   "cell_type": "code",
   "execution_count": 14,
   "metadata": {},
   "outputs": [
    {
     "name": "stdout",
     "output_type": "stream",
     "text": [
      "The image class is deer\n"
     ]
    }
   ],
   "source": [
    "# Get the image classification\n",
    "classification=['airplane', 'autombile', 'bird', 'cat','deer', 'dog','frog','horse','ship','truck']\n",
    "# print the image class\n",
    "print('The image class is', classification[y_train[index][0]])"
   ]
  },
  {
   "cell_type": "code",
   "execution_count": 15,
   "metadata": {},
   "outputs": [],
   "source": [
    "# Convert the labels into a set of 10 numbers to input into the neural network\n",
    "y_train_one_hot=to_categorical(y_train)\n",
    "y_test_one_hot=to_categorical(y_test)"
   ]
  },
  {
   "cell_type": "code",
   "execution_count": 16,
   "metadata": {},
   "outputs": [
    {
     "name": "stdout",
     "output_type": "stream",
     "text": [
      "[[0. 0. 0. ... 0. 0. 0.]\n",
      " [0. 0. 0. ... 0. 0. 1.]\n",
      " [0. 0. 0. ... 0. 0. 1.]\n",
      " ...\n",
      " [0. 0. 0. ... 0. 0. 1.]\n",
      " [0. 1. 0. ... 0. 0. 0.]\n",
      " [0. 1. 0. ... 0. 0. 0.]]\n"
     ]
    }
   ],
   "source": [
    "# Print the new labels\n",
    "print(y_train_one_hot)"
   ]
  },
  {
   "cell_type": "code",
   "execution_count": 17,
   "metadata": {},
   "outputs": [
    {
     "name": "stdout",
     "output_type": "stream",
     "text": [
      "The one hot label is:  [0. 0. 0. 0. 1. 0. 0. 0. 0. 0.]\n"
     ]
    }
   ],
   "source": [
    "# Print the new label of the image/picture above\n",
    "print('The one hot label is: ', y_train_one_hot[index])"
   ]
  },
  {
   "cell_type": "code",
   "execution_count": 18,
   "metadata": {},
   "outputs": [],
   "source": [
    "# Normalized the pixels to be values between 0 and 1\n",
    "x_train=x_train/255\n",
    "x_test=x_test/255\n"
   ]
  },
  {
   "cell_type": "code",
   "execution_count": 19,
   "metadata": {},
   "outputs": [
    {
     "data": {
      "text/plain": [
       "array([[[0.20784314, 0.25490196, 0.20784314],\n",
       "        [0.21176471, 0.24705882, 0.20392157],\n",
       "        [0.21960784, 0.23529412, 0.19607843],\n",
       "        ...,\n",
       "        [0.18431373, 0.2       , 0.19607843],\n",
       "        [0.16078431, 0.17647059, 0.17254902],\n",
       "        [0.09411765, 0.10980392, 0.10588235]],\n",
       "\n",
       "       [[0.18039216, 0.23137255, 0.16078431],\n",
       "        [0.20784314, 0.24313725, 0.17647059],\n",
       "        [0.21176471, 0.23137255, 0.17254902],\n",
       "        ...,\n",
       "        [0.16470588, 0.18039216, 0.17647059],\n",
       "        [0.15294118, 0.16862745, 0.16470588],\n",
       "        [0.10980392, 0.1254902 , 0.12156863]],\n",
       "\n",
       "       [[0.17647059, 0.23137255, 0.14901961],\n",
       "        [0.19607843, 0.23529412, 0.16078431],\n",
       "        [0.18039216, 0.20392157, 0.13333333],\n",
       "        ...,\n",
       "        [0.14901961, 0.16470588, 0.16078431],\n",
       "        [0.14117647, 0.15686275, 0.15294118],\n",
       "        [0.11372549, 0.12941176, 0.1254902 ]],\n",
       "\n",
       "       ...,\n",
       "\n",
       "       [[0.27843137, 0.3254902 , 0.25882353],\n",
       "        [0.29019608, 0.3254902 , 0.25882353],\n",
       "        [0.31372549, 0.33333333, 0.2627451 ],\n",
       "        ...,\n",
       "        [0.2       , 0.21176471, 0.12941176],\n",
       "        [0.18039216, 0.19215686, 0.13333333],\n",
       "        [0.19215686, 0.19607843, 0.16078431]],\n",
       "\n",
       "       [[0.29411765, 0.32156863, 0.2627451 ],\n",
       "        [0.30980392, 0.33333333, 0.27058824],\n",
       "        [0.31764706, 0.33333333, 0.2627451 ],\n",
       "        ...,\n",
       "        [0.23921569, 0.25490196, 0.16078431],\n",
       "        [0.25098039, 0.2627451 , 0.18823529],\n",
       "        [0.18823529, 0.19607843, 0.16078431]],\n",
       "\n",
       "       [[0.33333333, 0.3254902 , 0.27843137],\n",
       "        [0.33333333, 0.32941176, 0.27843137],\n",
       "        [0.3372549 , 0.3372549 , 0.2745098 ],\n",
       "        ...,\n",
       "        [0.23921569, 0.25490196, 0.15294118],\n",
       "        [0.25098039, 0.2627451 , 0.18039216],\n",
       "        [0.19215686, 0.19607843, 0.16078431]]])"
      ]
     },
     "execution_count": 19,
     "metadata": {},
     "output_type": "execute_result"
    }
   ],
   "source": [
    "x_train[index]"
   ]
  },
  {
   "cell_type": "code",
   "execution_count": 21,
   "metadata": {},
   "outputs": [],
   "source": [
    "# Create the models architecture\n",
    "model = Sequential()\n",
    "\n",
    "# Add the first layer\n",
    "model.add(Conv2D(32, (5,5), activation='relu', input_shape=(32,32,3)))\n",
    "\n",
    "# Add a pooling layer\n",
    "model.add(MaxPooling2D(pool_size=(2,2)))\n",
    "\n",
    "# Add another convolution layer\n",
    "model.add(Conv2D(32, (5,5), activation='relu'))\n",
    "\n",
    "# Add another pooling layer\n",
    "model.add(MaxPooling2D(pool_size=(2,2)))\n",
    "\n",
    "# Add a flattening layer\n",
    "model.add(Flatten())\n",
    "\n",
    "# Add a layer with 1000 neurons\n",
    "model.add(Dense(1000, activation='relu'))\n",
    "\n",
    "# Add a drop out layer\n",
    "model.add(Dropout(0.5))\n",
    "\n",
    "# Add a layer with 500 neurons\n",
    "model.add(Dense(500, activation='relu'))\n",
    "\n",
    "# Add a drop out layer\n",
    "model.add(Dropout(0.5))\n",
    "\n",
    "# Add a layer with 250 neurons\n",
    "model.add(Dense(250, activation='relu'))\n",
    "\n",
    "\n",
    "# Add a layer with 10 neurons\n",
    "model.add(Dense(10, activation='softmax'))"
   ]
  },
  {
   "cell_type": "code",
   "execution_count": 22,
   "metadata": {},
   "outputs": [],
   "source": [
    "# Compile the model\n",
    "\n",
    "model.compile(loss='categorical_crossentropy',\n",
    "             optimizer='adam',\n",
    "             metrics=['accuracy'])"
   ]
  },
  {
   "cell_type": "code",
   "execution_count": 23,
   "metadata": {},
   "outputs": [
    {
     "name": "stdout",
     "output_type": "stream",
     "text": [
      "Epoch 1/10\n",
      "157/157 [==============================] - 11s 65ms/step - loss: 2.0252 - accuracy: 0.2332 - val_loss: 1.4975 - val_accuracy: 0.4442\n",
      "Epoch 2/10\n",
      "157/157 [==============================] - 10s 62ms/step - loss: 1.4741 - accuracy: 0.4551 - val_loss: 1.2830 - val_accuracy: 0.5398\n",
      "Epoch 3/10\n",
      "157/157 [==============================] - 10s 63ms/step - loss: 1.3111 - accuracy: 0.5207 - val_loss: 1.2016 - val_accuracy: 0.5708\n",
      "Epoch 4/10\n",
      "157/157 [==============================] - 10s 65ms/step - loss: 1.2018 - accuracy: 0.5702 - val_loss: 1.1381 - val_accuracy: 0.5948\n",
      "Epoch 5/10\n",
      "157/157 [==============================] - 10s 66ms/step - loss: 1.1181 - accuracy: 0.6043 - val_loss: 1.1641 - val_accuracy: 0.5926\n",
      "Epoch 6/10\n",
      "157/157 [==============================] - 10s 65ms/step - loss: 1.0450 - accuracy: 0.6317 - val_loss: 1.0389 - val_accuracy: 0.6273\n",
      "Epoch 7/10\n",
      "157/157 [==============================] - 10s 66ms/step - loss: 0.9625 - accuracy: 0.6576 - val_loss: 1.0011 - val_accuracy: 0.6511\n",
      "Epoch 8/10\n",
      "157/157 [==============================] - 10s 66ms/step - loss: 0.9024 - accuracy: 0.6800 - val_loss: 0.9669 - val_accuracy: 0.6643\n",
      "Epoch 9/10\n",
      "157/157 [==============================] - 11s 68ms/step - loss: 0.8319 - accuracy: 0.7000 - val_loss: 0.9495 - val_accuracy: 0.6632\n",
      "Epoch 10/10\n",
      "157/157 [==============================] - 11s 69ms/step - loss: 0.7805 - accuracy: 0.7243 - val_loss: 0.9143 - val_accuracy: 0.6801\n"
     ]
    }
   ],
   "source": [
    "# Train the model\n",
    "hist=model.fit(x_train, y_train_one_hot,\n",
    "              batch_size=256,\n",
    "              epochs=10,\n",
    "              validation_split=0.2)"
   ]
  },
  {
   "cell_type": "code",
   "execution_count": 26,
   "metadata": {},
   "outputs": [
    {
     "name": "stdout",
     "output_type": "stream",
     "text": [
      "313/313 [==============================] - 2s 6ms/step - loss: 0.9195 - accuracy: 0.6772\n"
     ]
    },
    {
     "data": {
      "text/plain": [
       "0.6772000193595886"
      ]
     },
     "execution_count": 26,
     "metadata": {},
     "output_type": "execute_result"
    }
   ],
   "source": [
    "# Evaluate the model using the test data set\n",
    "model.evaluate(x_test,y_test_one_hot)[1]"
   ]
  },
  {
   "cell_type": "code",
   "execution_count": 29,
   "metadata": {},
   "outputs": [
    {
     "data": {
      "image/png": "[encoded data removed]",
      "text/plain": [
       "<Figure size 432x288 with 1 Axes>"
      ]
     },
     "metadata": {},
     "output_type": "display_data"
    }
   ],
   "source": [
    "# Visualize the model accuracy\n",
    "plt.plot(hist.history['accuracy'])\n",
    "plt.plot(hist.history['val_accuracy'])\n",
    "plt.title('Model Accuracy')\n",
    "plt.ylabel(\"Accuracy\")\n",
    "plt.xlabel(\"epoch\")\n",
    "plt.legend(['Train','Val'], loc='upper left')\n",
    "plt.show()"
   ]
  },
  {
   "cell_type": "code",
   "execution_count": 30,
   "metadata": {},
   "outputs": [
    {
     "data": {
      "image/png": "[encoded data removed]",
      "text/plain": [
       "<Figure size 432x288 with 1 Axes>"
      ]
     },
     "metadata": {},
     "output_type": "display_data"
    }
   ],
   "source": [
    "# Visualize the model loss\n",
    "plt.plot(hist.history['loss'])\n",
    "plt.plot(hist.history['val_loss'])\n",
    "plt.title('Model loss')\n",
    "plt.ylabel(\"Loss\")\n",
    "plt.xlabel(\"epoch\")\n",
    "plt.legend(['Train','Val'], loc='upper right')\n",
    "plt.show()"
   ]
  },
  {
   "cell_type": "code",
   "execution_count": 32,
   "metadata": {},
   "outputs": [
    {
     "ename": "ModuleNotFoundError",
     "evalue": "No module named 'google.colab'",
     "output_type": "error",
     "traceback": [
      "\u001b[0;31m---------------------------------------------------------------------------\u001b[0m",
      "\u001b[0;31mModuleNotFoundError\u001b[0m                       Traceback (most recent call last)",
      "\u001b[0;32m<ipython-input-32-000a249214ab>\u001b[0m in \u001b[0;36m<module>\u001b[0;34m\u001b[0m\n\u001b[1;32m      1\u001b[0m \u001b[0;31m# Test the model with an example\u001b[0m\u001b[0;34m\u001b[0m\u001b[0;34m\u001b[0m\u001b[0;34m\u001b[0m\u001b[0m\n\u001b[0;32m----> 2\u001b[0;31m \u001b[0;32mfrom\u001b[0m \u001b[0mgoogle\u001b[0m\u001b[0;34m.\u001b[0m\u001b[0mcolab\u001b[0m \u001b[0;32mimport\u001b[0m \u001b[0mfiles\u001b[0m\u001b[0;34m\u001b[0m\u001b[0;34m\u001b[0m\u001b[0m\n\u001b[0m\u001b[1;32m      3\u001b[0m \u001b[0muploaded\u001b[0m\u001b[0;34m=\u001b[0m\u001b[0mfiles\u001b[0m\u001b[0;34m.\u001b[0m\u001b[0mupload\u001b[0m\u001b[0;34m(\u001b[0m\u001b[0;34m)\u001b[0m\u001b[0;34m\u001b[0m\u001b[0;34m\u001b[0m\u001b[0m\n",
      "\u001b[0;31mModuleNotFoundError\u001b[0m: No module named 'google.colab'"
     ]
    }
   ],
   "source": [
    "# Test the model with an example\n",
    "from google.colab import files\n",
    "uploaded=files.upload()"
   ]
  },
  {
   "cell_type": "code",
   "execution_count": null,
   "metadata": {},
   "outputs": [],
   "source": []
  }
 ],
 "metadata": {
  "kernelspec": {
   "display_name": "Python 3",
   "language": "python",
   "name": "python3"
  },
  "language_info": {
   "codemirror_mode": {
    "name": "ipython",
    "version": 3
   },
   "file_extension": ".py",
   "mimetype": "text/x-python",
   "name": "python",
   "nbconvert_exporter": "python",
   "pygments_lexer": "ipython3",
   "version": "3.8.3"
  }
 },
 "nbformat": 4,
 "nbformat_minor": 4
}
